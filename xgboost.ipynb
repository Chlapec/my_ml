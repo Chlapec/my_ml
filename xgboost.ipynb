{
 "cells": [
  {
   "cell_type": "markdown",
   "metadata": {},
   "source": [
    "# xgboost test1 简单的蘑菇品种二分类"
   ]
  },
  {
   "cell_type": "code",
   "execution_count": 2,
   "metadata": {},
   "outputs": [
    {
     "name": "stderr",
     "output_type": "stream",
     "text": [
      "/home/jiang/.conda/envs/py2/lib/python2.7/site-packages/sklearn/cross_validation.py:41: DeprecationWarning: This module was deprecated in version 0.18 in favor of the model_selection module into which all the refactored classes and functions are moved. Also note that the interface of the new CV iterators are different from that of this module. This module will be removed in 0.20.\n",
      "  \"This module will be removed in 0.20.\", DeprecationWarning)\n"
     ]
    }
   ],
   "source": [
    "import xgboost as xgb\n",
    "from sklearn.metrics import accuracy_score\n",
    "import time"
   ]
  },
  {
   "cell_type": "code",
   "execution_count": 3,
   "metadata": {},
   "outputs": [],
   "source": [
    "data_path = './data/'\n",
    "train_data = xgb.DMatrix(data_path + 'agaricus.txt.train')\n",
    "test_data = xgb.DMatrix(data_path + 'agaricus.txt.test')"
   ]
  },
  {
   "cell_type": "code",
   "execution_count": 4,
   "metadata": {},
   "outputs": [],
   "source": [
    "param = {'max_depth':2, 'eta':1, 'silent':0, 'objective':'binary:logistic'}\n",
    "epochs = 3"
   ]
  },
  {
   "cell_type": "code",
   "execution_count": 22,
   "metadata": {},
   "outputs": [
    {
     "name": "stdout",
     "output_type": "stream",
     "text": [
      "执行时间为：0.433589s\n"
     ]
    }
   ],
   "source": [
    "start_time = time.clock()\n",
    "bst = xgb.train(param, train_data, epochs)\n",
    "end_time = time.clock()\n",
    "print \"执行时间为：\" + str(end_time - start_time) + \"s\""
   ]
  },
  {
   "cell_type": "code",
   "execution_count": 29,
   "metadata": {},
   "outputs": [
    {
     "name": "stdout",
     "output_type": "stream",
     "text": [
      "准确度为：97.77%\n"
     ]
    }
   ],
   "source": [
    "train_pred = bst.predict(train_data)\n",
    "train_pred = [round(value) for value in train_pred]\n",
    "train_label = train_data.get_label()\n",
    "acc = accuracy_score(train_pred, train_label)\n",
    "print (\"准确度为：{:.2f}%\".format(acc * 100))"
   ]
  },
  {
   "cell_type": "code",
   "execution_count": 26,
   "metadata": {
    "collapsed": true
   },
   "outputs": [
    {
     "data": {
      "image/png": "[encoded data removed]",
      "text/plain": [
       "<matplotlib.figure.Figure at 0x7f6f946e33d0>"
      ]
     },
     "metadata": {},
     "output_type": "display_data"
    }
   ],
   "source": [
    "from matplotlib import pyplot \n",
    "import graphviz\n",
    "xgb.plot_tree(bst, num_trees=0, rankdir='LR')\n",
    "pyplot.show()"
   ]
  },
  {
   "cell_type": "code",
   "execution_count": 30,
   "metadata": {
    "collapsed": true
   },
   "outputs": [
    {
     "data": {
      "image/png": "[encoded data removed]",
      "text/plain": [
       "<matplotlib.figure.Figure at 0x7f6f94778f10>"
      ]
     },
     "metadata": {},
     "output_type": "display_data"
    },
    {
     "data": {
      "image/svg+xml": [
       "<?xml version=\"1.0\" encoding=\"UTF-8\" standalone=\"no\"?>\n",
       "<!DOCTYPE svg PUBLIC \"-//W3C//DTD SVG 1.1//EN\"\n",
       " \"http://www.w3.org/Graphics/SVG/1.1/DTD/svg11.dtd\">\n",
       "<!-- Generated by graphviz version 2.38.0 (20140413.2041)\n",
       " -->\n",
       "<!-- Title: %3 Pages: 1 -->\n",
       "<svg width=\"444pt\" height=\"455pt\"\n",
       " viewBox=\"0.00 0.00 444.00 455.37\" xmlns=\"http://www.w3.org/2000/svg\" xmlns:xlink=\"http://www.w3.org/1999/xlink\">\n",
       "<g id=\"graph0\" class=\"graph\" transform=\"scale(1 1) rotate(0) translate(4 451.373)\">\n",
       "<title>%3</title>\n",
       "<polygon fill=\"white\" stroke=\"none\" points=\"-4,4 -4,-451.373 440,-451.373 440,4 -4,4\"/>\n",
       "<!-- 0 -->\n",
       "<g id=\"node1\" class=\"node\"><title>0</title>\n",
       "<ellipse fill=\"none\" stroke=\"black\" cx=\"234.5\" cy=\"-371.979\" rx=\"75.2868\" ry=\"75.2868\"/>\n",
       "<text text-anchor=\"middle\" x=\"234.5\" y=\"-368.279\" font-family=\"Times,serif\" font-size=\"14.00\">f29&lt;&#45;9.53674e&#45;07</text>\n",
       "</g>\n",
       "<!-- 1 -->\n",
       "<g id=\"node2\" class=\"node\"><title>1</title>\n",
       "<ellipse fill=\"none\" stroke=\"black\" cx=\"138.5\" cy=\"-166.293\" rx=\"75.2868\" ry=\"75.2868\"/>\n",
       "<text text-anchor=\"middle\" x=\"138.5\" y=\"-162.593\" font-family=\"Times,serif\" font-size=\"14.00\">f56&lt;&#45;9.53674e&#45;07</text>\n",
       "</g>\n",
       "<!-- 0&#45;&gt;1 -->\n",
       "<g id=\"edge1\" class=\"edge\"><title>0&#45;&gt;1</title>\n",
       "<path fill=\"none\" stroke=\"#0000ff\" d=\"M202.667,-303.438C193.714,-284.443 183.913,-263.646 174.724,-244.151\"/>\n",
       "<polygon fill=\"#0000ff\" stroke=\"#0000ff\" points=\"177.84,-242.553 170.411,-234.999 171.508,-245.537 177.84,-242.553\"/>\n",
       "<text text-anchor=\"middle\" x=\"224\" y=\"-267.386\" font-family=\"Times,serif\" font-size=\"14.00\">yes, missing</text>\n",
       "</g>\n",
       "<!-- 2 -->\n",
       "<g id=\"node3\" class=\"node\"><title>2</title>\n",
       "<ellipse fill=\"none\" stroke=\"black\" cx=\"311.5\" cy=\"-166.293\" rx=\"79.0865\" ry=\"79.0865\"/>\n",
       "<text text-anchor=\"middle\" x=\"311.5\" y=\"-162.593\" font-family=\"Times,serif\" font-size=\"14.00\">f109&lt;&#45;9.53674e&#45;07</text>\n",
       "</g>\n",
       "<!-- 0&#45;&gt;2 -->\n",
       "<g id=\"edge2\" class=\"edge\"><title>0&#45;&gt;2</title>\n",
       "<path fill=\"none\" stroke=\"#ff0000\" d=\"M260.891,-301.167C267.042,-284.898 273.651,-267.414 279.998,-250.625\"/>\n",
       "<polygon fill=\"#ff0000\" stroke=\"#ff0000\" points=\"283.437,-251.426 283.699,-240.835 276.889,-248.951 283.437,-251.426\"/>\n",
       "<text text-anchor=\"middle\" x=\"282.5\" y=\"-267.386\" font-family=\"Times,serif\" font-size=\"14.00\">no</text>\n",
       "</g>\n",
       "<!-- 3 -->\n",
       "<g id=\"node4\" class=\"node\"><title>3</title>\n",
       "<polygon fill=\"none\" stroke=\"black\" points=\"89,-36 7.10543e-15,-36 7.10543e-15,-0 89,-0 89,-36\"/>\n",
       "<text text-anchor=\"middle\" x=\"44.5\" y=\"-14.3\" font-family=\"Times,serif\" font-size=\"14.00\">leaf=1.71218</text>\n",
       "</g>\n",
       "<!-- 1&#45;&gt;3 -->\n",
       "<g id=\"edge3\" class=\"edge\"><title>1&#45;&gt;3</title>\n",
       "<path fill=\"none\" stroke=\"#0000ff\" d=\"M97.9542,-102.375C90.8006,-91.259 83.4279,-79.7923 76.5,-69 71.4032,-61.0602 65.8595,-52.405 60.8402,-44.5613\"/>\n",
       "<polygon fill=\"#0000ff\" stroke=\"#0000ff\" points=\"63.7851,-42.6697 55.448,-36.1318 57.8884,-46.4418 63.7851,-42.6697\"/>\n",
       "<text text-anchor=\"middle\" x=\"111\" y=\"-57.8\" font-family=\"Times,serif\" font-size=\"14.00\">yes, missing</text>\n",
       "</g>\n",
       "<!-- 4 -->\n",
       "<g id=\"node5\" class=\"node\"><title>4</title>\n",
       "<polygon fill=\"none\" stroke=\"black\" points=\"201.5,-36 107.5,-36 107.5,-0 201.5,-0 201.5,-36\"/>\n",
       "<text text-anchor=\"middle\" x=\"154.5\" y=\"-14.3\" font-family=\"Times,serif\" font-size=\"14.00\">leaf=&#45;1.70044</text>\n",
       "</g>\n",
       "<!-- 1&#45;&gt;4 -->\n",
       "<g id=\"edge4\" class=\"edge\"><title>1&#45;&gt;4</title>\n",
       "<path fill=\"none\" stroke=\"#ff0000\" d=\"M146.594,-91.2893C148.362,-75.1222 150.124,-59.0108 151.534,-46.1151\"/>\n",
       "<polygon fill=\"#ff0000\" stroke=\"#ff0000\" points=\"155.021,-46.4297 152.629,-36.1084 148.062,-45.6686 155.021,-46.4297\"/>\n",
       "<text text-anchor=\"middle\" x=\"158.5\" y=\"-57.8\" font-family=\"Times,serif\" font-size=\"14.00\">no</text>\n",
       "</g>\n",
       "<!-- 5 -->\n",
       "<g id=\"node6\" class=\"node\"><title>5</title>\n",
       "<polygon fill=\"none\" stroke=\"black\" points=\"328.5,-36 234.5,-36 234.5,-0 328.5,-0 328.5,-36\"/>\n",
       "<text text-anchor=\"middle\" x=\"281.5\" y=\"-14.3\" font-family=\"Times,serif\" font-size=\"14.00\">leaf=&#45;1.94071</text>\n",
       "</g>\n",
       "<!-- 2&#45;&gt;5 -->\n",
       "<g id=\"edge5\" class=\"edge\"><title>2&#45;&gt;5</title>\n",
       "<path fill=\"none\" stroke=\"#0000ff\" d=\"M295.709,-88.2907C292.587,-73.0641 289.51,-58.0608 287.023,-45.9301\"/>\n",
       "<polygon fill=\"#0000ff\" stroke=\"#0000ff\" points=\"290.439,-45.1688 285.002,-36.0758 283.582,-46.5751 290.439,-45.1688\"/>\n",
       "<text text-anchor=\"middle\" x=\"326\" y=\"-57.8\" font-family=\"Times,serif\" font-size=\"14.00\">yes, missing</text>\n",
       "</g>\n",
       "<!-- 6 -->\n",
       "<g id=\"node7\" class=\"node\"><title>6</title>\n",
       "<polygon fill=\"none\" stroke=\"black\" points=\"436,-36 347,-36 347,-0 436,-0 436,-36\"/>\n",
       "<text text-anchor=\"middle\" x=\"391.5\" y=\"-14.3\" font-family=\"Times,serif\" font-size=\"14.00\">leaf=1.85965</text>\n",
       "</g>\n",
       "<!-- 2&#45;&gt;6 -->\n",
       "<g id=\"edge6\" class=\"edge\"><title>2&#45;&gt;6</title>\n",
       "<path fill=\"none\" stroke=\"#ff0000\" d=\"M349.493,-96.4237C354.551,-87.2101 359.659,-77.8798 364.5,-69 368.73,-61.241 373.306,-52.79 377.467,-45.0812\"/>\n",
       "<polygon fill=\"#ff0000\" stroke=\"#ff0000\" points=\"380.621,-46.606 382.287,-36.1428 374.46,-43.2837 380.621,-46.606\"/>\n",
       "<text text-anchor=\"middle\" x=\"379.5\" y=\"-57.8\" font-family=\"Times,serif\" font-size=\"14.00\">no</text>\n",
       "</g>\n",
       "</g>\n",
       "</svg>\n"
      ],
      "text/plain": [
       "<graphviz.dot.Digraph at 0x7f6f943de4d0>"
      ]
     },
     "execution_count": 30,
     "metadata": {},
     "output_type": "execute_result"
    }
   ],
   "source": [
    "xgb.plot_tree(bst, num_trees=1, rankdir='LR')\n",
    "pyplot.show()\n",
    "xgb.to_graphviz(bst, num_trees=0)\n",
    "# xgb.to_graphviz(bst, num_trees=1)"
   ]
  },
  {
   "cell_type": "markdown",
   "metadata": {},
   "source": [
    "# xgboost test2 和 sklearn 一起使用"
   ]
  },
  {
   "cell_type": "code",
   "execution_count": 8,
   "metadata": {},
   "outputs": [],
   "source": [
    "import xgboost\n",
    "from xgboost import XGBClassifier\n",
    "from sklearn.metrics import accuracy_score\n",
    "from sklearn.datasets import load_svmlight_file\n",
    "import matplotlib.pyplot as plt"
   ]
  },
  {
   "cell_type": "code",
   "execution_count": 6,
   "metadata": {},
   "outputs": [],
   "source": [
    "X_train, y_train = load_svmlight_file(data_path + 'agaricus.txt.train')\n",
    "X_test, y_test = load_svmlight_file(data_path + 'agaricus.txt.test')"
   ]
  },
  {
   "cell_type": "code",
   "execution_count": 37,
   "metadata": {},
   "outputs": [],
   "source": [
    "epochs = 2\n",
    "lr = 1\n",
    "max_depth = 2\n",
    "objective = 'binary:logistic'"
   ]
  },
  {
   "cell_type": "code",
   "execution_count": 38,
   "metadata": {},
   "outputs": [
    {
     "data": {
      "text/plain": [
       "XGBClassifier(base_score=0.5, colsample_bylevel=1, colsample_bytree=1,\n",
       "       gamma=0, learning_rate=1, max_delta_step=0, max_depth=2,\n",
       "       min_child_weight=1, missing=None, n_estimators=2, nthread=-1,\n",
       "       objective='binary:logistic', reg_alpha=0, reg_lambda=1,\n",
       "       scale_pos_weight=1, seed=0, silent=True, subsample=1)"
      ]
     },
     "execution_count": 38,
     "metadata": {},
     "output_type": "execute_result"
    }
   ],
   "source": [
    "bst = XGBClassifier(max_depth=max_depth, learning_rate=lr, n_estimators=epochs, \n",
    "                    silent = True, objective = objective)\n",
    "bst.fit(X_train, y_train)"
   ]
  },
  {
   "cell_type": "code",
   "execution_count": 41,
   "metadata": {},
   "outputs": [
    {
     "name": "stdout",
     "output_type": "stream",
     "text": [
      "准确率为：97.827%\n"
     ]
    }
   ],
   "source": [
    "train_pred = bst.predict(X_test)\n",
    "train_pred = [round(value) for value in train_pred]\n",
    "acc = accuracy_score(train_pred, y_test)\n",
    "print \"准确率为：{:.3f}%\".format(acc * 100)"
   ]
  },
  {
   "cell_type": "markdown",
   "metadata": {},
   "source": [
    "# xgboost test3 交叉验证(sklearn.grid_search.GridSearchCV)"
   ]
  },
  {
   "cell_type": "code",
   "execution_count": 7,
   "metadata": {},
   "outputs": [
    {
     "name": "stderr",
     "output_type": "stream",
     "text": [
      "/home/jiang/.conda/envs/py2/lib/python2.7/site-packages/sklearn/grid_search.py:42: DeprecationWarning: This module was deprecated in version 0.18 in favor of the model_selection module into which all the refactored classes and functions are moved. This module will be removed in 0.20.\n",
      "  DeprecationWarning)\n"
     ]
    }
   ],
   "source": [
    "# 运行 xgboost安装包中的示例程序\n",
    "from xgboost import XGBClassifier\n",
    "\n",
    "# 加载LibSVM格式数据模块\n",
    "from sklearn.datasets import load_svmlight_file\n",
    "\n",
    "from sklearn.grid_search import GridSearchCV\n",
    "from sklearn.model_selection import train_test_split\n",
    "from sklearn.metrics import accuracy_score\n",
    "\n",
    "from matplotlib import pyplot"
   ]
  },
  {
   "cell_type": "markdown",
   "metadata": {},
   "source": [
    "### 构造模型"
   ]
  },
  {
   "cell_type": "code",
   "execution_count": 9,
   "metadata": {},
   "outputs": [],
   "source": [
    "max_depth_gridsearch = range(1, 5)\n",
    "lr = [0.01, 0.1, 1]\n",
    "\n",
    "bst =XGBClassifier(max_depth=max_depth_gridsearch, \n",
    "                   learning_rate=lr, \n",
    "                   silent=True, \n",
    "                   objective='binary:logistic')"
   ]
  },
  {
   "cell_type": "markdown",
   "metadata": {},
   "source": [
    "### 网格搜索与交叉验证"
   ]
  },
  {
   "cell_type": "code",
   "execution_count": 10,
   "metadata": {},
   "outputs": [
    {
     "data": {
      "text/plain": [
       "GridSearchCV(cv=5, error_score='raise',\n",
       "       estimator=XGBClassifier(base_score=0.5, colsample_bylevel=1, colsample_bytree=1,\n",
       "       gamma=0, learning_rate=[0.01, 0.1, 1], max_delta_step=0,\n",
       "       max_depth=[1, 2, 3, 4], min_child_weight=1, missing=None,\n",
       "       n_estimators=100, nthread=-1, objective='binary:logistic',\n",
       "       reg_alpha=0, reg_lambda=1, scale_pos_weight=1, seed=0, silent=True,\n",
       "       subsample=1),\n",
       "       fit_params={}, iid=True, n_jobs=1,\n",
       "       param_grid={'n_estimators': [1, 2, 3, 4], 'learning_rate': [0.01, 0.1, 1], 'max_depth': [1, 2, 3, 4]},\n",
       "       pre_dispatch='2*n_jobs', refit=True, scoring='accuracy', verbose=0)"
      ]
     },
     "execution_count": 10,
     "metadata": {},
     "output_type": "execute_result"
    }
   ],
   "source": [
    "param_list = {\n",
    "    'n_estimators':range(1, 5, 1),\n",
    "    'max_depth':max_depth_gridsearch, \n",
    "    'learning_rate':lr\n",
    "}\n",
    "    \n",
    "clf = GridSearchCV(estimator=bst, param_grid=param_list, scoring='accuracy', cv=5)\n",
    "clf.fit(X_train, y_train)"
   ]
  },
  {
   "cell_type": "code",
   "execution_count": 14,
   "metadata": {
    "collapsed": true
   },
   "outputs": [
    {
     "data": {
      "text/plain": [
       "([mean: 0.88607, std: 0.14971, params: {'n_estimators': 1, 'learning_rate': 0.01, 'max_depth': 1},\n",
       "  mean: 0.88607, std: 0.14971, params: {'n_estimators': 2, 'learning_rate': 0.01, 'max_depth': 1},\n",
       "  mean: 0.88607, std: 0.14971, params: {'n_estimators': 3, 'learning_rate': 0.01, 'max_depth': 1},\n",
       "  mean: 0.88607, std: 0.14971, params: {'n_estimators': 4, 'learning_rate': 0.01, 'max_depth': 1},\n",
       "  mean: 0.90542, std: 0.08996, params: {'n_estimators': 1, 'learning_rate': 0.01, 'max_depth': 2},\n",
       "  mean: 0.90542, std: 0.08996, params: {'n_estimators': 2, 'learning_rate': 0.01, 'max_depth': 2},\n",
       "  mean: 0.90542, std: 0.08996, params: {'n_estimators': 3, 'learning_rate': 0.01, 'max_depth': 2},\n",
       "  mean: 0.90542, std: 0.08996, params: {'n_estimators': 4, 'learning_rate': 0.01, 'max_depth': 2},\n",
       "  mean: 0.89053, std: 0.14598, params: {'n_estimators': 1, 'learning_rate': 0.01, 'max_depth': 3},\n",
       "  mean: 0.89053, std: 0.14598, params: {'n_estimators': 2, 'learning_rate': 0.01, 'max_depth': 3},\n",
       "  mean: 0.89053, std: 0.14598, params: {'n_estimators': 3, 'learning_rate': 0.01, 'max_depth': 3},\n",
       "  mean: 0.89053, std: 0.14598, params: {'n_estimators': 4, 'learning_rate': 0.01, 'max_depth': 3},\n",
       "  mean: 0.92093, std: 0.14757, params: {'n_estimators': 1, 'learning_rate': 0.01, 'max_depth': 4},\n",
       "  mean: 0.92093, std: 0.14757, params: {'n_estimators': 2, 'learning_rate': 0.01, 'max_depth': 4},\n",
       "  mean: 0.92093, std: 0.14757, params: {'n_estimators': 3, 'learning_rate': 0.01, 'max_depth': 4},\n",
       "  mean: 0.92093, std: 0.14757, params: {'n_estimators': 4, 'learning_rate': 0.01, 'max_depth': 4},\n",
       "  mean: 0.88607, std: 0.14971, params: {'n_estimators': 1, 'learning_rate': 0.1, 'max_depth': 1},\n",
       "  mean: 0.88607, std: 0.14971, params: {'n_estimators': 2, 'learning_rate': 0.1, 'max_depth': 1},\n",
       "  mean: 0.88607, std: 0.14971, params: {'n_estimators': 3, 'learning_rate': 0.1, 'max_depth': 1},\n",
       "  mean: 0.88607, std: 0.14971, params: {'n_estimators': 4, 'learning_rate': 0.1, 'max_depth': 1},\n",
       "  mean: 0.90542, std: 0.08996, params: {'n_estimators': 1, 'learning_rate': 0.1, 'max_depth': 2},\n",
       "  mean: 0.94749, std: 0.07458, params: {'n_estimators': 2, 'learning_rate': 0.1, 'max_depth': 2},\n",
       "  mean: 0.90542, std: 0.08996, params: {'n_estimators': 3, 'learning_rate': 0.1, 'max_depth': 2},\n",
       "  mean: 0.94749, std: 0.07458, params: {'n_estimators': 4, 'learning_rate': 0.1, 'max_depth': 2},\n",
       "  mean: 0.89053, std: 0.14598, params: {'n_estimators': 1, 'learning_rate': 0.1, 'max_depth': 3},\n",
       "  mean: 0.89053, std: 0.14598, params: {'n_estimators': 2, 'learning_rate': 0.1, 'max_depth': 3},\n",
       "  mean: 0.89053, std: 0.14598, params: {'n_estimators': 3, 'learning_rate': 0.1, 'max_depth': 3},\n",
       "  mean: 0.89053, std: 0.14598, params: {'n_estimators': 4, 'learning_rate': 0.1, 'max_depth': 3},\n",
       "  mean: 0.92093, std: 0.14757, params: {'n_estimators': 1, 'learning_rate': 0.1, 'max_depth': 4},\n",
       "  mean: 0.92139, std: 0.14779, params: {'n_estimators': 2, 'learning_rate': 0.1, 'max_depth': 4},\n",
       "  mean: 0.92093, std: 0.14757, params: {'n_estimators': 3, 'learning_rate': 0.1, 'max_depth': 4},\n",
       "  mean: 0.92216, std: 0.14819, params: {'n_estimators': 4, 'learning_rate': 0.1, 'max_depth': 4},\n",
       "  mean: 0.88607, std: 0.14971, params: {'n_estimators': 1, 'learning_rate': 1, 'max_depth': 1},\n",
       "  mean: 0.86412, std: 0.15231, params: {'n_estimators': 2, 'learning_rate': 1, 'max_depth': 1},\n",
       "  mean: 0.86427, std: 0.15204, params: {'n_estimators': 3, 'learning_rate': 1, 'max_depth': 1},\n",
       "  mean: 0.89467, std: 0.15028, params: {'n_estimators': 4, 'learning_rate': 1, 'max_depth': 1},\n",
       "  mean: 0.90542, std: 0.08996, params: {'n_estimators': 1, 'learning_rate': 1, 'max_depth': 2},\n",
       "  mean: 0.98127, std: 0.01870, params: {'n_estimators': 2, 'learning_rate': 1, 'max_depth': 2},\n",
       "  mean: 0.91878, std: 0.13622, params: {'n_estimators': 3, 'learning_rate': 1, 'max_depth': 2},\n",
       "  mean: 0.91801, std: 0.13580, params: {'n_estimators': 4, 'learning_rate': 1, 'max_depth': 2},\n",
       "  mean: 0.89053, std: 0.14598, params: {'n_estimators': 1, 'learning_rate': 1, 'max_depth': 3},\n",
       "  mean: 0.89252, std: 0.14737, params: {'n_estimators': 2, 'learning_rate': 1, 'max_depth': 3},\n",
       "  mean: 0.92676, std: 0.13898, params: {'n_estimators': 3, 'learning_rate': 1, 'max_depth': 3},\n",
       "  mean: 0.92676, std: 0.13898, params: {'n_estimators': 4, 'learning_rate': 1, 'max_depth': 3},\n",
       "  mean: 0.92093, std: 0.14757, params: {'n_estimators': 1, 'learning_rate': 1, 'max_depth': 4},\n",
       "  mean: 0.92400, std: 0.14902, params: {'n_estimators': 2, 'learning_rate': 1, 'max_depth': 4},\n",
       "  mean: 0.92400, std: 0.14902, params: {'n_estimators': 3, 'learning_rate': 1, 'max_depth': 4},\n",
       "  mean: 0.92400, std: 0.14902, params: {'n_estimators': 4, 'learning_rate': 1, 'max_depth': 4}],\n",
       " <bound method GridSearchCV.get_params of GridSearchCV(cv=5, error_score='raise',\n",
       "        estimator=XGBClassifier(base_score=0.5, colsample_bylevel=1, colsample_bytree=1,\n",
       "        gamma=0, learning_rate=[0.01, 0.1, 1], max_delta_step=0,\n",
       "        max_depth=[1, 2, 3, 4], min_child_weight=1, missing=None,\n",
       "        n_estimators=100, nthread=-1, objective='binary:logistic',\n",
       "        reg_alpha=0, reg_lambda=1, scale_pos_weight=1, seed=0, silent=True,\n",
       "        subsample=1),\n",
       "        fit_params={}, iid=True, n_jobs=1,\n",
       "        param_grid={'n_estimators': [1, 2, 3, 4], 'learning_rate': [0.01, 0.1, 1], 'max_depth': [1, 2, 3, 4]},\n",
       "        pre_dispatch='2*n_jobs', refit=True, scoring='accuracy', verbose=0)>,\n",
       " 0.9812682327652388)"
      ]
     },
     "execution_count": 14,
     "metadata": {},
     "output_type": "execute_result"
    }
   ],
   "source": [
    "clf.grid_scores_, clf.get_params, clf.best_score_"
   ]
  },
  {
   "cell_type": "markdown",
   "metadata": {},
   "source": [
    "# xgboost test4 earlystoping"
   ]
  },
  {
   "cell_type": "code",
   "execution_count": 20,
   "metadata": {},
   "outputs": [
    {
     "data": {
      "text/plain": [
       "(2150, 126)"
      ]
     },
     "execution_count": 20,
     "metadata": {},
     "output_type": "execute_result"
    }
   ],
   "source": [
    "# split data into train and test sets, 1/3的训练数据作为校验数据\n",
    "seed = 7\n",
    "test_size = 0.33\n",
    "X_train_part, X_validate, y_train_part, y_validate= train_test_split(X_train, y_train, test_size=test_size,\n",
    "    random_state=seed)\n",
    "\n",
    "X_train_part.shape\n",
    "X_validate.shape"
   ]
  },
  {
   "cell_type": "markdown",
   "metadata": {},
   "source": [
    "### 参数设置"
   ]
  },
  {
   "cell_type": "code",
   "execution_count": 21,
   "metadata": {
    "collapsed": true
   },
   "outputs": [
    {
     "name": "stdout",
     "output_type": "stream",
     "text": [
      "[0]\tvalidation_0-error:0.045611\tvalidation_0-logloss:0.231512\tvalidation_1-error:0.048372\tvalidation_1-logloss:0.237263\n",
      "Multiple eval metrics have been passed: 'validation_1-logloss' will be used for early stopping.\n",
      "\n",
      "Will train until validation_1-logloss hasn't improved in 10 rounds.\n",
      "[1]\tvalidation_0-error:0.021545\tvalidation_0-logloss:0.135258\tvalidation_1-error:0.023721\tvalidation_1-logloss:0.13948\n",
      "[2]\tvalidation_0-error:0.007105\tvalidation_0-logloss:0.082762\tvalidation_1-error:0.006977\tvalidation_1-logloss:0.082865\n",
      "[3]\tvalidation_0-error:0.015815\tvalidation_0-logloss:0.057677\tvalidation_1-error:0.013953\tvalidation_1-logloss:0.055721\n",
      "[4]\tvalidation_0-error:0.007105\tvalidation_0-logloss:0.041543\tvalidation_1-error:0.006977\tvalidation_1-logloss:0.043145\n",
      "[5]\tvalidation_0-error:0.001146\tvalidation_0-logloss:0.029968\tvalidation_1-error:0.001395\tvalidation_1-logloss:0.031232\n",
      "[6]\tvalidation_0-error:0.001146\tvalidation_0-logloss:0.019453\tvalidation_1-error:0.001395\tvalidation_1-logloss:0.020732\n",
      "[7]\tvalidation_0-error:0.001146\tvalidation_0-logloss:0.01491\tvalidation_1-error:0.001395\tvalidation_1-logloss:0.016414\n",
      "[8]\tvalidation_0-error:0.001146\tvalidation_0-logloss:0.011278\tvalidation_1-error:0.001395\tvalidation_1-logloss:0.011846\n",
      "[9]\tvalidation_0-error:0.001146\tvalidation_0-logloss:0.009871\tvalidation_1-error:0.001395\tvalidation_1-logloss:0.010075\n",
      "[10]\tvalidation_0-error:0.001146\tvalidation_0-logloss:0.006964\tvalidation_1-error:0.001395\tvalidation_1-logloss:0.007504\n",
      "[11]\tvalidation_0-error:0.001146\tvalidation_0-logloss:0.005334\tvalidation_1-error:0.001395\tvalidation_1-logloss:0.005596\n",
      "[12]\tvalidation_0-error:0\tvalidation_0-logloss:0.004131\tvalidation_1-error:0\tvalidation_1-logloss:0.004315\n",
      "[13]\tvalidation_0-error:0\tvalidation_0-logloss:0.003108\tvalidation_1-error:0\tvalidation_1-logloss:0.003164\n",
      "[14]\tvalidation_0-error:0\tvalidation_0-logloss:0.002624\tvalidation_1-error:0\tvalidation_1-logloss:0.002982\n",
      "[15]\tvalidation_0-error:0\tvalidation_0-logloss:0.00233\tvalidation_1-error:0\tvalidation_1-logloss:0.002485\n",
      "[16]\tvalidation_0-error:0\tvalidation_0-logloss:0.002042\tvalidation_1-error:0\tvalidation_1-logloss:0.002229\n",
      "[17]\tvalidation_0-error:0\tvalidation_0-logloss:0.001848\tvalidation_1-error:0\tvalidation_1-logloss:0.002054\n",
      "[18]\tvalidation_0-error:0\tvalidation_0-logloss:0.001692\tvalidation_1-error:0\tvalidation_1-logloss:0.001806\n",
      "[19]\tvalidation_0-error:0\tvalidation_0-logloss:0.001487\tvalidation_1-error:0\tvalidation_1-logloss:0.001623\n",
      "[20]\tvalidation_0-error:0\tvalidation_0-logloss:0.001386\tvalidation_1-error:0\tvalidation_1-logloss:0.001469\n",
      "[21]\tvalidation_0-error:0\tvalidation_0-logloss:0.001281\tvalidation_1-error:0\tvalidation_1-logloss:0.001375\n",
      "[22]\tvalidation_0-error:0\tvalidation_0-logloss:0.001177\tvalidation_1-error:0\tvalidation_1-logloss:0.001195\n",
      "[23]\tvalidation_0-error:0\tvalidation_0-logloss:0.001084\tvalidation_1-error:0\tvalidation_1-logloss:0.001105\n",
      "[24]\tvalidation_0-error:0\tvalidation_0-logloss:0.001026\tvalidation_1-error:0\tvalidation_1-logloss:0.001084\n",
      "[25]\tvalidation_0-error:0\tvalidation_0-logloss:0.000979\tvalidation_1-error:0\tvalidation_1-logloss:0.000996\n",
      "[26]\tvalidation_0-error:0\tvalidation_0-logloss:0.000947\tvalidation_1-error:0\tvalidation_1-logloss:0.000989\n",
      "[27]\tvalidation_0-error:0\tvalidation_0-logloss:0.000917\tvalidation_1-error:0\tvalidation_1-logloss:0.000956\n",
      "[28]\tvalidation_0-error:0\tvalidation_0-logloss:0.000906\tvalidation_1-error:0\tvalidation_1-logloss:0.000931\n",
      "[29]\tvalidation_0-error:0\tvalidation_0-logloss:0.000886\tvalidation_1-error:0\tvalidation_1-logloss:0.000925\n",
      "[30]\tvalidation_0-error:0\tvalidation_0-logloss:0.000867\tvalidation_1-error:0\tvalidation_1-logloss:0.000903\n",
      "[31]\tvalidation_0-error:0\tvalidation_0-logloss:0.000846\tvalidation_1-error:0\tvalidation_1-logloss:0.00088\n",
      "[32]\tvalidation_0-error:0\tvalidation_0-logloss:0.000817\tvalidation_1-error:0\tvalidation_1-logloss:0.000827\n",
      "[33]\tvalidation_0-error:0\tvalidation_0-logloss:0.000799\tvalidation_1-error:0\tvalidation_1-logloss:0.000824\n",
      "[34]\tvalidation_0-error:0\tvalidation_0-logloss:0.000792\tvalidation_1-error:0\tvalidation_1-logloss:0.000813\n",
      "[35]\tvalidation_0-error:0\tvalidation_0-logloss:0.00078\tvalidation_1-error:0\tvalidation_1-logloss:0.000803\n",
      "[36]\tvalidation_0-error:0\tvalidation_0-logloss:0.000767\tvalidation_1-error:0\tvalidation_1-logloss:0.000791\n",
      "[37]\tvalidation_0-error:0\tvalidation_0-logloss:0.000764\tvalidation_1-error:0\tvalidation_1-logloss:0.000788\n",
      "[38]\tvalidation_0-error:0\tvalidation_0-logloss:0.000758\tvalidation_1-error:0\tvalidation_1-logloss:0.000779\n",
      "[39]\tvalidation_0-error:0\tvalidation_0-logloss:0.000756\tvalidation_1-error:0\tvalidation_1-logloss:0.000777\n",
      "[40]\tvalidation_0-error:0\tvalidation_0-logloss:0.000753\tvalidation_1-error:0\tvalidation_1-logloss:0.000767\n",
      "[41]\tvalidation_0-error:0\tvalidation_0-logloss:0.00075\tvalidation_1-error:0\tvalidation_1-logloss:0.000772\n",
      "[42]\tvalidation_0-error:0\tvalidation_0-logloss:0.000748\tvalidation_1-error:0\tvalidation_1-logloss:0.000768\n",
      "[43]\tvalidation_0-error:0\tvalidation_0-logloss:0.000746\tvalidation_1-error:0\tvalidation_1-logloss:0.000766\n",
      "[44]\tvalidation_0-error:0\tvalidation_0-logloss:0.000743\tvalidation_1-error:0\tvalidation_1-logloss:0.000765\n",
      "[45]\tvalidation_0-error:0\tvalidation_0-logloss:0.000741\tvalidation_1-error:0\tvalidation_1-logloss:0.000761\n",
      "[46]\tvalidation_0-error:0\tvalidation_0-logloss:0.000739\tvalidation_1-error:0\tvalidation_1-logloss:0.000756\n",
      "[47]\tvalidation_0-error:0\tvalidation_0-logloss:0.000737\tvalidation_1-error:0\tvalidation_1-logloss:0.000754\n",
      "[48]\tvalidation_0-error:0\tvalidation_0-logloss:0.000735\tvalidation_1-error:0\tvalidation_1-logloss:0.000754\n",
      "[49]\tvalidation_0-error:0\tvalidation_0-logloss:0.000733\tvalidation_1-error:0\tvalidation_1-logloss:0.00075\n",
      "[50]\tvalidation_0-error:0\tvalidation_0-logloss:0.000731\tvalidation_1-error:0\tvalidation_1-logloss:0.000749\n",
      "[51]\tvalidation_0-error:0\tvalidation_0-logloss:0.00073\tvalidation_1-error:0\tvalidation_1-logloss:0.000746\n",
      "[52]\tvalidation_0-error:0\tvalidation_0-logloss:0.000728\tvalidation_1-error:0\tvalidation_1-logloss:0.00075\n",
      "[53]\tvalidation_0-error:0\tvalidation_0-logloss:0.000727\tvalidation_1-error:0\tvalidation_1-logloss:0.000741\n",
      "[54]\tvalidation_0-error:0\tvalidation_0-logloss:0.000726\tvalidation_1-error:0\tvalidation_1-logloss:0.000741\n",
      "[55]\tvalidation_0-error:0\tvalidation_0-logloss:0.000724\tvalidation_1-error:0\tvalidation_1-logloss:0.000738\n",
      "[56]\tvalidation_0-error:0\tvalidation_0-logloss:0.000722\tvalidation_1-error:0\tvalidation_1-logloss:0.000736\n",
      "[57]\tvalidation_0-error:0\tvalidation_0-logloss:0.000721\tvalidation_1-error:0\tvalidation_1-logloss:0.000732\n",
      "[58]\tvalidation_0-error:0\tvalidation_0-logloss:0.00072\tvalidation_1-error:0\tvalidation_1-logloss:0.000732\n",
      "[59]\tvalidation_0-error:0\tvalidation_0-logloss:0.000718\tvalidation_1-error:0\tvalidation_1-logloss:0.000728\n",
      "[60]\tvalidation_0-error:0\tvalidation_0-logloss:0.000717\tvalidation_1-error:0\tvalidation_1-logloss:0.000727\n",
      "[61]\tvalidation_0-error:0\tvalidation_0-logloss:0.000716\tvalidation_1-error:0\tvalidation_1-logloss:0.000722\n",
      "[62]\tvalidation_0-error:0\tvalidation_0-logloss:0.000714\tvalidation_1-error:0\tvalidation_1-logloss:0.000726\n",
      "[63]\tvalidation_0-error:0\tvalidation_0-logloss:0.000713\tvalidation_1-error:0\tvalidation_1-logloss:0.000724\n",
      "[64]\tvalidation_0-error:0\tvalidation_0-logloss:0.000712\tvalidation_1-error:0\tvalidation_1-logloss:0.000723\n",
      "[65]\tvalidation_0-error:0\tvalidation_0-logloss:0.000711\tvalidation_1-error:0\tvalidation_1-logloss:0.000723\n",
      "[66]\tvalidation_0-error:0\tvalidation_0-logloss:0.000709\tvalidation_1-error:0\tvalidation_1-logloss:0.00072\n",
      "[67]\tvalidation_0-error:0\tvalidation_0-logloss:0.000708\tvalidation_1-error:0\tvalidation_1-logloss:0.000713\n",
      "[68]\tvalidation_0-error:0\tvalidation_0-logloss:0.000708\tvalidation_1-error:0\tvalidation_1-logloss:0.000713\n",
      "[69]\tvalidation_0-error:0\tvalidation_0-logloss:0.000707\tvalidation_1-error:0\tvalidation_1-logloss:0.00071\n",
      "[70]\tvalidation_0-error:0\tvalidation_0-logloss:0.000705\tvalidation_1-error:0\tvalidation_1-logloss:0.000714\n",
      "[71]\tvalidation_0-error:0\tvalidation_0-logloss:0.000705\tvalidation_1-error:0\tvalidation_1-logloss:0.000714\n",
      "[72]\tvalidation_0-error:0\tvalidation_0-logloss:0.000704\tvalidation_1-error:0\tvalidation_1-logloss:0.00071\n",
      "[73]\tvalidation_0-error:0\tvalidation_0-logloss:0.000702\tvalidation_1-error:0\tvalidation_1-logloss:0.000708\n"
     ]
    },
    {
     "name": "stdout",
     "output_type": "stream",
     "text": [
      "[74]\tvalidation_0-error:0\tvalidation_0-logloss:0.000701\tvalidation_1-error:0\tvalidation_1-logloss:0.000707\n",
      "[75]\tvalidation_0-error:0\tvalidation_0-logloss:0.000701\tvalidation_1-error:0\tvalidation_1-logloss:0.000707\n",
      "[76]\tvalidation_0-error:0\tvalidation_0-logloss:0.0007\tvalidation_1-error:0\tvalidation_1-logloss:0.000705\n",
      "[77]\tvalidation_0-error:0\tvalidation_0-logloss:0.000699\tvalidation_1-error:0\tvalidation_1-logloss:0.000702\n",
      "[78]\tvalidation_0-error:0\tvalidation_0-logloss:0.000698\tvalidation_1-error:0\tvalidation_1-logloss:0.000701\n",
      "[79]\tvalidation_0-error:0\tvalidation_0-logloss:0.000697\tvalidation_1-error:0\tvalidation_1-logloss:0.000701\n",
      "[80]\tvalidation_0-error:0\tvalidation_0-logloss:0.000696\tvalidation_1-error:0\tvalidation_1-logloss:0.000699\n",
      "[81]\tvalidation_0-error:0\tvalidation_0-logloss:0.000695\tvalidation_1-error:0\tvalidation_1-logloss:0.000699\n",
      "[82]\tvalidation_0-error:0\tvalidation_0-logloss:0.000695\tvalidation_1-error:0\tvalidation_1-logloss:0.000695\n",
      "[83]\tvalidation_0-error:0\tvalidation_0-logloss:0.000694\tvalidation_1-error:0\tvalidation_1-logloss:0.000695\n",
      "[84]\tvalidation_0-error:0\tvalidation_0-logloss:0.000694\tvalidation_1-error:0\tvalidation_1-logloss:0.000695\n",
      "[85]\tvalidation_0-error:0\tvalidation_0-logloss:0.000693\tvalidation_1-error:0\tvalidation_1-logloss:0.000694\n",
      "[86]\tvalidation_0-error:0\tvalidation_0-logloss:0.000692\tvalidation_1-error:0\tvalidation_1-logloss:0.000693\n",
      "[87]\tvalidation_0-error:0\tvalidation_0-logloss:0.000692\tvalidation_1-error:0\tvalidation_1-logloss:0.000692\n",
      "[88]\tvalidation_0-error:0\tvalidation_0-logloss:0.000691\tvalidation_1-error:0\tvalidation_1-logloss:0.000692\n",
      "[89]\tvalidation_0-error:0\tvalidation_0-logloss:0.00069\tvalidation_1-error:0\tvalidation_1-logloss:0.00069\n",
      "[90]\tvalidation_0-error:0\tvalidation_0-logloss:0.00069\tvalidation_1-error:0\tvalidation_1-logloss:0.000689\n",
      "[91]\tvalidation_0-error:0\tvalidation_0-logloss:0.000689\tvalidation_1-error:0\tvalidation_1-logloss:0.000688\n",
      "[92]\tvalidation_0-error:0\tvalidation_0-logloss:0.000689\tvalidation_1-error:0\tvalidation_1-logloss:0.000688\n",
      "[93]\tvalidation_0-error:0\tvalidation_0-logloss:0.000688\tvalidation_1-error:0\tvalidation_1-logloss:0.000688\n",
      "[94]\tvalidation_0-error:0\tvalidation_0-logloss:0.000688\tvalidation_1-error:0\tvalidation_1-logloss:0.000687\n",
      "[95]\tvalidation_0-error:0\tvalidation_0-logloss:0.000688\tvalidation_1-error:0\tvalidation_1-logloss:0.000682\n",
      "[96]\tvalidation_0-error:0\tvalidation_0-logloss:0.000687\tvalidation_1-error:0\tvalidation_1-logloss:0.000682\n",
      "[97]\tvalidation_0-error:0\tvalidation_0-logloss:0.000687\tvalidation_1-error:0\tvalidation_1-logloss:0.00068\n",
      "[98]\tvalidation_0-error:0\tvalidation_0-logloss:0.000687\tvalidation_1-error:0\tvalidation_1-logloss:0.00068\n",
      "[99]\tvalidation_0-error:0\tvalidation_0-logloss:0.000686\tvalidation_1-error:0\tvalidation_1-logloss:0.000679\n"
     ]
    },
    {
     "data": {
      "text/plain": [
       "XGBClassifier(base_score=0.5, colsample_bylevel=1, colsample_bytree=1,\n",
       "       gamma=0, learning_rate=1, max_delta_step=0, max_depth=2,\n",
       "       min_child_weight=1, missing=None, n_estimators=100, nthread=-1,\n",
       "       objective='binary:logistic', reg_alpha=0, reg_lambda=1,\n",
       "       scale_pos_weight=1, seed=0, silent=True, subsample=1)"
      ]
     },
     "execution_count": 21,
     "metadata": {},
     "output_type": "execute_result"
    }
   ],
   "source": [
    "# 设置boosting迭代计算次数\n",
    "num_round = 100\n",
    "\n",
    "#bst = XGBClassifier(param)\n",
    "#bst = XGBClassifier()\n",
    "bst =XGBClassifier(max_depth=2, learning_rate=1, n_estimators=num_round, silent=True, objective='binary:logistic')\n",
    "\n",
    "#eval_set = [(X_train_part, y_train_part), (X_validation, y_validation)]\n",
    "#bst.fit(X_train_part, y_train_part, eval_metric=[\"error\", \"logloss\"], eval_set=eval_set, verbose=False)\n",
    "\n",
    "eval_set = [(X_train_part, y_train_part), (X_validate, y_validate)]\n",
    "bst.fit(X_train_part, y_train_part, early_stopping_rounds=10, eval_metric=[\"error\", \"logloss\"],\n",
    "    eval_set=eval_set, verbose=True)"
   ]
  },
  {
   "cell_type": "markdown",
   "metadata": {},
   "source": [
    "### 显示学习曲线"
   ]
  },
  {
   "cell_type": "code",
   "execution_count": 25,
   "metadata": {},
   "outputs": [
    {
     "data": {
      "image/png": "[encoded data removed]",
      "text/plain": [
       "<matplotlib.figure.Figure at 0x7ff385462050>"
      ]
     },
     "metadata": {},
     "output_type": "display_data"
    },
    {
     "data": {
      "image/png": "[encoded data removed]",
      "text/plain": [
       "<matplotlib.figure.Figure at 0x7ff3854d40d0>"
      ]
     },
     "metadata": {},
     "output_type": "display_data"
    }
   ],
   "source": [
    "# retrieve performance metrics\n",
    "results = bst.evals_result()\n",
    "#print(results)\n",
    "\n",
    "epochs = len(results['validation_0']['error'])\n",
    "x_axis = range(0, epochs)\n",
    "\n",
    "# 画出分类器 error 曲线\n",
    "fig, ax = pyplot.subplots()\n",
    "ax.plot(x_axis, results['validation_0']['error'], label='Train')\n",
    "ax.plot(x_axis, results['validation_1']['error'], label='Train')\n",
    "ax.legend()\n",
    "pyplot.ylabel('Error')\n",
    "pyplot.xlabel('Round')\n",
    "pyplot.title('XGBoost Early Stop')\n",
    "pyplot.show()\n",
    "\n",
    "# 画出分类器 loss 曲线\n",
    "fig, ax = pyplot.subplots()\n",
    "ax.plot(x_axis, results['validation_0']['logloss'], label = 'Train')\n",
    "ax.plot(x_axis, results['validation_1']['logloss'], label = 'Test')\n",
    "ax.legend()\n",
    "pyplot.xlabel('Epochs')\n",
    "pyplot.ylabel('Log Loss')\n",
    "pyplot.title('XGBoost Log Loss')\n",
    "pyplot.show()"
   ]
  }
 ],
 "metadata": {
  "kernelspec": {
   "display_name": "Python 2",
   "language": "python",
   "name": "python2"
  },
  "language_info": {
   "codemirror_mode": {
    "name": "ipython",
    "version": 2
   },
   "file_extension": ".py",
   "mimetype": "text/x-python",
   "name": "python",
   "nbconvert_exporter": "python",
   "pygments_lexer": "ipython2",
   "version": "2.7.13"
  }
 },
 "nbformat": 4,
 "nbformat_minor": 2
}
